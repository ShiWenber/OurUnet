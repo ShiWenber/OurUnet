{
 "cells": [
  {
   "cell_type": "code",
   "execution_count": 2,
   "metadata": {},
   "outputs": [],
   "source": [
    "from itkwidgets import view\n",
    "import itkwidgets\n",
    "import nibabel as nib\n",
    "index = \"0038\""
   ]
  },
  {
   "cell_type": "code",
   "execution_count": 6,
   "metadata": {},
   "outputs": [
    {
     "data": {
      "text/plain": [
       "(192, 156, 12)"
      ]
     },
     "execution_count": 6,
     "metadata": {},
     "output_type": "execute_result"
    }
   ],
   "source": [
    "# nii = nib.load(r'./data/case'+index + '_gt.nii.gz')\n",
    "nii = nib.load(r\"../../data/averaged-training-images/det0000101_avg.nii.gz\")\n",
    "img_gt=nii.get_fdata()\n",
    "viewer=view(img_gt,cmap=itkwidgets.cm.grayscale)\n",
    "viewer"
   ]
  },
  {
   "cell_type": "code",
   "execution_count": 35,
   "metadata": {},
   "outputs": [
    {
     "data": {
      "application/vnd.jupyter.widget-view+json": {
       "model_id": "4bbdf2e6d191409bb193ee8180c04487",
       "version_major": 2,
       "version_minor": 0
      },
      "text/plain": [
       "Viewer(cmap=['Grayscale'], geometries=[], gradient_opacity=0.22, point_sets=[], rendered_image=<itk.itkImagePy…"
      ]
     },
     "metadata": {},
     "output_type": "display_data"
    }
   ],
   "source": [
    "\n",
    "nii = nib.load(r'./data/case'+index+'_img.nii.gz')\n",
    "img_data=nii.get_fdata()\n",
    "viewer=view(img_data,cmap=itkwidgets.cm.grayscale)\n",
    "viewer"
   ]
  },
  {
   "cell_type": "code",
   "execution_count": 36,
   "metadata": {},
   "outputs": [
    {
     "data": {
      "application/vnd.jupyter.widget-view+json": {
       "model_id": "fe3a28893f5444e8816dcd361277697b",
       "version_major": 2,
       "version_minor": 0
      },
      "text/plain": [
       "Viewer(cmap=['Grayscale'], geometries=[], gradient_opacity=0.22, point_sets=[], rendered_image=<itk.itkImagePy…"
      ]
     },
     "metadata": {},
     "output_type": "display_data"
    }
   ],
   "source": [
    "\n",
    "nii = nib.load(r'./data/case'+index+ '_pred.nii.gz')\n",
    "img_pred=nii.get_fdata()\n",
    "viewer=view(img_pred,cmap=itkwidgets.cm.grayscale)\n",
    "viewer"
   ]
  },
  {
   "cell_type": "code",
   "execution_count": 31,
   "metadata": {},
   "outputs": [
    {
     "name": "stdout",
     "output_type": "stream",
     "text": [
      "(512, 512, 147)\n",
      "(512, 512, 147)\n",
      "(512, 512, 147)\n"
     ]
    }
   ],
   "source": [
    "# img 的形态为(512, 512, 198)\n",
    "# 从中切出 (512, 512, 1) 的切片\n",
    "import cv2 as cv\n",
    "import matplotlib.pyplot as plt\n",
    "import numpy as np\n",
    "import time\n",
    "\n",
    "def map2gray(img):\n",
    "    img = img.astype(np.int8)\n",
    "    img[img == 1] = 28\n",
    "    img[img == 2] = 28 * 2\n",
    "    img[img == 3] = 28 * 3\n",
    "    img[img == 4] = 28 * 4\n",
    "    img[img == 5] = 28 * 5\n",
    "    img[img == 6] = 28 * 6\n",
    "    img[img == 7] = 28 * 7\n",
    "    img[img == 8] = 28 * 8\n",
    "    img[img == 9] = 28 * 9\n",
    "    return img\n",
    "\n",
    "print(img_data.shape)\n",
    "print(img_gt.shape)\n",
    "print(img_pred.shape)\n",
    "img_pred = map2gray(img_pred)\n",
    "# cv.imwrite(\"img.png\", img[:,:,0])\n",
    "# 将img2变为彩图\n",
    "# img2 = cv.cvtColor(img2, cv.COLOR_GRAY2BGR)\n",
    "for i in range(img_pred.shape[2]):\n",
    "#     plt.show(img_slice)\n",
    "    cv.imwrite(f\"./img/{i}_pred.jpg\", img_pred[:, :, i])\n",
    "    cv.imwrite(f\"./img/{i}_gt.jpg\", img_gt[:, :, i]*255)\n",
    "    cv.imwrite(f\"./img/{i}_img.jpg\", img_data[:, :, i]*255)\n",
    "    \n",
    "    "
   ]
  }
 ],
 "metadata": {
  "kernelspec": {
   "display_name": "Python 3 (ipykernel)",
   "language": "python",
   "name": "python3"
  },
  "language_info": {
   "codemirror_mode": {
    "name": "ipython",
    "version": 3
   },
   "file_extension": ".py",
   "mimetype": "text/x-python",
   "name": "python",
   "nbconvert_exporter": "python",
   "pygments_lexer": "ipython3",
   "version": "3.9.4"
  },
  "vscode": {
   "interpreter": {
    "hash": "31b1400b2234a3897e1a0f341592b81d59b7fa378c5bbe160bb3b32387dc2409"
   }
  }
 },
 "nbformat": 4,
 "nbformat_minor": 2
}
